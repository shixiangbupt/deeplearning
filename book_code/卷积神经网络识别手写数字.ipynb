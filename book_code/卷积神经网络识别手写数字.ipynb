{
 "cells": [
  {
   "cell_type": "markdown",
   "metadata": {},
   "source": [
    "# 深度学习框架实战\n",
    "\n",
    "## 山东理工大学 数学与统计学院 周世祥\n",
    " \n",
    "## Keras卷积神经网络识别手写体 "
   ]
  },
  {
   "cell_type": "markdown",
   "metadata": {},
   "source": [
    "Convolutional Neural  Network简称CNN，是由计算机科学家Yann LeCun所提出，在计算机视觉等诸多领域都有贡献。\n",
    "\n",
    "### CNN简介\n",
    "\n",
    "多层感知器与卷积神经网络的主要差异是：卷积神经网络增加了卷积层1，池化层1，卷积层2，池化层2的处理来提取特征。\n",
    "\n",
    "卷积运算的效果类似于滤波效果，即用于提取不同的特征，downsampling就是缩减采样。\n",
    "\n",
    "卷积层的意义是将原本一个图像经过卷积运算产生多个图像，就好像将相片叠加起来。\n",
    "\n",
    "卷积运算方式：\n",
    "<img src=\"conv2d.jpg\" width = 70% alt=\"卷积运算示意\" />\n",
    "\n",
    "卷积运算并不会改变图像大小，处理后的图形大小不变。\n",
    "\n",
    "Max-Pool运算：\n",
    "\n",
    "<img src=\"pooling.jpg\" width = 50% alt=\"池化示意\" />\n",
    "\n",
    "缩减采样会缩小图像，有下列好处：\n",
    "\n",
    "1. 减少需要处理的数据点，减少后续运算所需时间；\n",
    "2. 让图像位置差异变小，位置的上下左右，位置不同会影响识别，减小图像让位置差异更小；\n",
    "3. 参数的数量和计算量下降，避免过度拟合。\n",
    "\n",
    "### 建立卷积神经网络的步骤\n",
    "\n",
    "卷积神经网络因为必须先进行卷积与池化运算，所以必须保持图像的维数，所以reshape转换为60000项，每一项是28\\*28\\*1的图像，分别是28宽\\*28高\\*1单色。\n",
    "\n",
    "<img src=\"CNN.jpg\" width = 70% alt=\"卷积神经网络结构\" />\n",
    "\n",
    "**导入所需模块**\n",
    "\n"
   ]
  },
  {
   "cell_type": "code",
   "execution_count": 23,
   "metadata": {},
   "outputs": [
    {
     "data": {
      "text/plain": [
       "'1.2.1'"
      ]
     },
     "execution_count": 23,
     "metadata": {},
     "output_type": "execute_result"
    }
   ],
   "source": [
    "import tensorflow as tf\n",
    "tf.__version__\n",
    "#这个命令居然让cpu占到98%，搞不懂"
   ]
  },
  {
   "cell_type": "code",
   "execution_count": 24,
   "metadata": {},
   "outputs": [
    {
     "data": {
      "text/plain": [
       "'2.0.2'"
      ]
     },
     "execution_count": 24,
     "metadata": {},
     "output_type": "execute_result"
    }
   ],
   "source": [
    "import keras\n",
    "keras.__version__"
   ]
  },
  {
   "cell_type": "code",
   "execution_count": 1,
   "metadata": {},
   "outputs": [
    {
     "name": "stderr",
     "output_type": "stream",
     "text": [
      "Using TensorFlow backend.\n"
     ]
    }
   ],
   "source": [
    "from keras.datasets import mnist\n",
    "from keras.utils import np_utils\n",
    "import numpy as np\n",
    "np.random.seed(10)"
   ]
  },
  {
   "cell_type": "markdown",
   "metadata": {},
   "source": [
    "### 数据预处理"
   ]
  },
  {
   "cell_type": "code",
   "execution_count": 2,
   "metadata": {
    "collapsed": true
   },
   "outputs": [],
   "source": [
    "(x_Train, y_Train), (x_Test, y_Test) = mnist.load_data()"
   ]
  },
  {
   "cell_type": "markdown",
   "metadata": {},
   "source": [
    "将features数字图像特征值转换为四维矩阵，以reshape转为60000乘以28乘以28再乘以1的4维矩阵。"
   ]
  },
  {
   "cell_type": "code",
   "execution_count": 3,
   "metadata": {
    "collapsed": true
   },
   "outputs": [],
   "source": [
    "x_Train4D=x_Train.reshape(x_Train.shape[0],28,28,1).astype('float32')\n",
    "x_Test4D=x_Test.reshape(x_Test.shape[0],28,28,1).astype('float32')"
   ]
  },
  {
   "cell_type": "code",
   "execution_count": 4,
   "metadata": {
    "collapsed": true
   },
   "outputs": [],
   "source": [
    "x_Train4D_normalize = x_Train4D / 255\n",
    "x_Test4D_normalize = x_Test4D / 255\n",
    "#将特征值标准化可以提高模型预测的准确度，并且收敛更快。"
   ]
  },
  {
   "cell_type": "code",
   "execution_count": 5,
   "metadata": {
    "collapsed": true
   },
   "outputs": [],
   "source": [
    "y_TrainOneHot = np_utils.to_categorical(y_Train)\n",
    "y_TestOneHot = np_utils.to_categorical(y_Test)\n",
    "#将数字真实值label以One-Hot Encoding进行转换"
   ]
  },
  {
   "cell_type": "markdown",
   "metadata": {},
   "source": [
    "建立模型\n"
   ]
  },
  {
   "cell_type": "code",
   "execution_count": 6,
   "metadata": {
    "collapsed": true
   },
   "outputs": [],
   "source": [
    "from keras.models import Sequential\n",
    "from keras.layers import Dense,Dropout,Flatten,Conv2D,MaxPooling2D\n",
    "#导入模块\n"
   ]
  },
  {
   "cell_type": "code",
   "execution_count": 7,
   "metadata": {
    "collapsed": true
   },
   "outputs": [],
   "source": [
    "model = Sequential()\n",
    "#仍然是线性堆叠模型"
   ]
  },
  {
   "cell_type": "code",
   "execution_count": 8,
   "metadata": {
    "collapsed": true
   },
   "outputs": [],
   "source": [
    "model.add(Conv2D(filters=16,\n",
    "                 kernel_size=(5,5),\n",
    "                 padding='same',\n",
    "                 input_shape=(28,28,1), \n",
    "                 activation='relu'))\n",
    "#一个完整的卷积运算包含一个卷积层与一个池化层\n",
    "#此为卷积层1，输入图像大小是28*28，进行一次卷积运算会产生16个图像，卷积运算不改变图像大小。\n",
    "#kernel_size=(5,5) 5*5大小的滤镜\n",
    "# padding='same',此设置人卷积运算产生的卷积图像大小不变\n",
    "#input_shape=(28,28,1)，第一，二维代表输入图像形状为28*28，第三维因为是单色灰度图像，所以最后的维数是1\n"
   ]
  },
  {
   "cell_type": "code",
   "execution_count": 9,
   "metadata": {
    "collapsed": true
   },
   "outputs": [],
   "source": [
    "model.add(MaxPooling2D(pool_size=(2, 2)))\n",
    "#建立池化层\n",
    "#执行一次缩减采样\n",
    "#将16个28*28的图形缩小为16个14*14的图形\n"
   ]
  },
  {
   "cell_type": "code",
   "execution_count": 10,
   "metadata": {
    "collapsed": true
   },
   "outputs": [],
   "source": [
    "model.add(Conv2D(filters=36,\n",
    "                 kernel_size=(5,5),\n",
    "                 padding='same',\n",
    "                 activation='relu'))\n",
    "#建立卷基层2，执行第二次卷积运算，\n",
    "#将原本的16个图像转换为36个图像，卷积运算不会改变图形大小，所以图像仍然是14*14\n"
   ]
  },
  {
   "cell_type": "code",
   "execution_count": 12,
   "metadata": {
    "collapsed": true
   },
   "outputs": [],
   "source": [
    "model.add(MaxPooling2D(pool_size=(2, 2)))\n",
    "#建立池化层2，并且加入DropOut避免过度拟合\n"
   ]
  },
  {
   "cell_type": "code",
   "execution_count": 14,
   "metadata": {
    "collapsed": true
   },
   "outputs": [],
   "source": [
    "model.add(Dropout(0.25))\n",
    "#每次训练迭代时会随机在神经网络中放弃25%的神经元避免过拟合"
   ]
  },
  {
   "cell_type": "code",
   "execution_count": 15,
   "metadata": {
    "collapsed": true
   },
   "outputs": [],
   "source": [
    "model.add(Flatten())\n",
    "#建立平坦层，将前面池化层2下来的36个7*7的图形转换成一维向量，长度是36*7*7，即\n",
    "#1764个float，正好对应1764个神经元"
   ]
  },
  {
   "cell_type": "code",
   "execution_count": 16,
   "metadata": {
    "collapsed": true
   },
   "outputs": [],
   "source": [
    "model.add(Dense(128, activation='relu'))\n",
    "#建立隐藏层，共有128个神经元"
   ]
  },
  {
   "cell_type": "code",
   "execution_count": 17,
   "metadata": {
    "collapsed": true
   },
   "outputs": [],
   "source": [
    "model.add(Dropout(0.5))\n",
    "#每次训练迭代时会随机在神经网络中放弃50%的神经元避免过拟合"
   ]
  },
  {
   "cell_type": "code",
   "execution_count": 18,
   "metadata": {
    "collapsed": true
   },
   "outputs": [],
   "source": [
    "model.add(Dense(10,activation='softmax'))\n",
    "#加入输出层\n"
   ]
  },
  {
   "cell_type": "code",
   "execution_count": 19,
   "metadata": {},
   "outputs": [
    {
     "name": "stdout",
     "output_type": "stream",
     "text": [
      "_________________________________________________________________\n",
      "Layer (type)                 Output Shape              Param #   \n",
      "=================================================================\n",
      "conv2d_1 (Conv2D)            (None, 28, 28, 16)        416       \n",
      "_________________________________________________________________\n",
      "max_pooling2d_1 (MaxPooling2 (None, 14, 14, 16)        0         \n",
      "_________________________________________________________________\n",
      "conv2d_2 (Conv2D)            (None, 14, 14, 36)        14436     \n",
      "_________________________________________________________________\n",
      "max_pooling2d_2 (MaxPooling2 (None, 7, 7, 36)          0         \n",
      "_________________________________________________________________\n",
      "max_pooling2d_3 (MaxPooling2 (None, 3, 3, 36)          0         \n",
      "_________________________________________________________________\n",
      "dropout_1 (Dropout)          (None, 3, 3, 36)          0         \n",
      "_________________________________________________________________\n",
      "dropout_2 (Dropout)          (None, 3, 3, 36)          0         \n",
      "_________________________________________________________________\n",
      "flatten_1 (Flatten)          (None, 324)               0         \n",
      "_________________________________________________________________\n",
      "dense_1 (Dense)              (None, 128)               41600     \n",
      "_________________________________________________________________\n",
      "dropout_3 (Dropout)          (None, 128)               0         \n",
      "_________________________________________________________________\n",
      "dense_2 (Dense)              (None, 10)                1290      \n",
      "=================================================================\n",
      "Total params: 57,742.0\n",
      "Trainable params: 57,742.0\n",
      "Non-trainable params: 0.0\n",
      "_________________________________________________________________\n",
      "None\n"
     ]
    }
   ],
   "source": [
    "print(model.summary())\n",
    "#查看模型摘要"
   ]
  },
  {
   "cell_type": "markdown",
   "metadata": {},
   "source": [
    "### 进行训练\n",
    "\n",
    "使用反向传播算法进行训练，在训练之前，先使用compile方法对训练模型进行设置。"
   ]
  },
  {
   "cell_type": "code",
   "execution_count": 21,
   "metadata": {
    "collapsed": true
   },
   "outputs": [],
   "source": [
    "model.compile(loss='categorical_crossentropy',\n",
    "              optimizer='adam',metrics=['accuracy'])\n",
    "#loss='categorical_crossentropy'设置损失函数，交叉熵\n",
    "#使用adam优化器可以让训练更快收敛\n",
    "#设置评估模型的方式是准确率"
   ]
  },
  {
   "cell_type": "code",
   "execution_count": 22,
   "metadata": {},
   "outputs": [
    {
     "name": "stdout",
     "output_type": "stream",
     "text": [
      "Train on 48000 samples, validate on 12000 samples\n",
      "Epoch 1/20\n",
      "64s - loss: 0.8482 - acc: 0.7176 - val_loss: 0.1249 - val_acc: 0.9637\n",
      "Epoch 2/20\n",
      "61s - loss: 0.2350 - acc: 0.9284 - val_loss: 0.0818 - val_acc: 0.9759\n",
      "Epoch 3/20\n",
      "61s - loss: 0.1719 - acc: 0.9478 - val_loss: 0.0647 - val_acc: 0.9808\n",
      "Epoch 4/20\n",
      "63s - loss: 0.1444 - acc: 0.9562 - val_loss: 0.0563 - val_acc: 0.9841\n",
      "Epoch 5/20\n",
      "63s - loss: 0.1272 - acc: 0.9612 - val_loss: 0.0520 - val_acc: 0.9843\n",
      "Epoch 6/20\n",
      "63s - loss: 0.1132 - acc: 0.9653 - val_loss: 0.0451 - val_acc: 0.9875\n",
      "Epoch 7/20\n",
      "64s - loss: 0.1039 - acc: 0.9684 - val_loss: 0.0418 - val_acc: 0.9877\n",
      "Epoch 8/20\n",
      "65s - loss: 0.0969 - acc: 0.9709 - val_loss: 0.0390 - val_acc: 0.9885\n",
      "Epoch 9/20\n",
      "65s - loss: 0.0874 - acc: 0.9737 - val_loss: 0.0362 - val_acc: 0.9900\n",
      "Epoch 10/20\n",
      "66s - loss: 0.0838 - acc: 0.9753 - val_loss: 0.0358 - val_acc: 0.9898\n",
      "Epoch 11/20\n",
      "67s - loss: 0.0808 - acc: 0.9754 - val_loss: 0.0337 - val_acc: 0.9905\n",
      "Epoch 12/20\n",
      "67s - loss: 0.0743 - acc: 0.9772 - val_loss: 0.0325 - val_acc: 0.9908\n",
      "Epoch 13/20\n",
      "67s - loss: 0.0706 - acc: 0.9787 - val_loss: 0.0334 - val_acc: 0.9905\n",
      "Epoch 14/20\n",
      "67s - loss: 0.0698 - acc: 0.9784 - val_loss: 0.0320 - val_acc: 0.9903\n",
      "Epoch 15/20\n",
      "69s - loss: 0.0682 - acc: 0.9793 - val_loss: 0.0299 - val_acc: 0.9913\n",
      "Epoch 16/20\n",
      "68s - loss: 0.0607 - acc: 0.9814 - val_loss: 0.0302 - val_acc: 0.9916\n",
      "Epoch 17/20\n",
      "67s - loss: 0.0614 - acc: 0.9813 - val_loss: 0.0302 - val_acc: 0.9916\n",
      "Epoch 18/20\n",
      "72s - loss: 0.0599 - acc: 0.9809 - val_loss: 0.0305 - val_acc: 0.9914\n",
      "Epoch 19/20\n",
      "77s - loss: 0.0568 - acc: 0.9824 - val_loss: 0.0286 - val_acc: 0.9920\n",
      "Epoch 20/20\n",
      "68s - loss: 0.0550 - acc: 0.9828 - val_loss: 0.0284 - val_acc: 0.9922\n"
     ]
    }
   ],
   "source": [
    "train_history=model.fit(x=x_Train4D_normalize, \n",
    "                        y=y_TrainOneHot,validation_split=0.2, \n",
    "                        epochs=20, batch_size=300,verbose=2)\n",
    "#verbose=2显示训练过程\n",
    "#batch_size=300每一批次300项数据\n",
    "#epochs=20执行20个训练周期\n",
    "#validation_split=0.2，将80%作为训练数据，20%作为验证数据，48000作为训练数据\n",
    "#12000作为验证数据，使用48000项训练数据进行训练，分为一批次300项，所以大约分为160批次\n"
   ]
  },
  {
   "cell_type": "code",
   "execution_count": 25,
   "metadata": {
    "collapsed": true
   },
   "outputs": [],
   "source": [
    "import matplotlib.pyplot as plt\n",
    "def show_train_history(train_acc,test_acc):\n",
    "    plt.plot(train_history.history[train_acc])\n",
    "    plt.plot(train_history.history[test_acc])\n",
    "    plt.title('Train History')\n",
    "    plt.ylabel('Accuracy')\n",
    "    plt.xlabel('Epoch')\n",
    "    plt.legend(['train', 'test'], loc='upper left')\n",
    "    plt.show()\n",
    "#画出准确率执行结果\n",
    "#acc是训练的准确率，val_acc是验证的准确率"
   ]
  },
  {
   "cell_type": "code",
   "execution_count": 26,
   "metadata": {},
   "outputs": [
    {
     "data": {
      "image/png": "[encoded data removed]",
      "text/plain": [
       "<matplotlib.figure.Figure at 0x1c34a3c8>"
      ]
     },
     "metadata": {},
     "output_type": "display_data"
    }
   ],
   "source": [
    "show_train_history('acc','val_acc')"
   ]
  },
  {
   "cell_type": "code",
   "execution_count": 27,
   "metadata": {},
   "outputs": [
    {
     "data": {
      "image/png": "[encoded data removed]",
      "text/plain": [
       "<matplotlib.figure.Figure at 0x1c34a470>"
      ]
     },
     "metadata": {},
     "output_type": "display_data"
    }
   ],
   "source": [
    "show_train_history('loss','val_loss')\n",
    "#画出误差误差执行结果\n"
   ]
  },
  {
   "cell_type": "code",
   "execution_count": null,
   "metadata": {
    "collapsed": true
   },
   "outputs": [],
   "source": []
  },
  {
   "cell_type": "markdown",
   "metadata": {},
   "source": [
    "### 评价模型准确率\n",
    "使用测试数据集来评估模型准确率。使用卷积神经网络来识别MNIST数据集，分类精度接近0.99.\n"
   ]
  },
  {
   "cell_type": "code",
   "execution_count": 29,
   "metadata": {},
   "outputs": [
    {
     "name": "stdout",
     "output_type": "stream",
     "text": [
      " 9920/10000 [============================>.] - ETA: 0s"
     ]
    },
    {
     "data": {
      "text/plain": [
       "0.9929"
      ]
     },
     "execution_count": 29,
     "metadata": {},
     "output_type": "execute_result"
    }
   ],
   "source": [
    "scores = model.evaluate(x_Test4D_normalize , y_TestOneHot)\n",
    "scores[1]"
   ]
  },
  {
   "cell_type": "markdown",
   "metadata": {},
   "source": [
    "### 进行预测"
   ]
  },
  {
   "cell_type": "code",
   "execution_count": 30,
   "metadata": {},
   "outputs": [
    {
     "name": "stdout",
     "output_type": "stream",
     "text": [
      " 9952/10000 [============================>.] - ETA: 0s"
     ]
    }
   ],
   "source": [
    "prediction=model.predict_classes(x_Test4D_normalize)\n",
    "#x_Test4D_normalize指已标注化了的测试数据"
   ]
  },
  {
   "cell_type": "code",
   "execution_count": 31,
   "metadata": {},
   "outputs": [
    {
     "data": {
      "text/plain": [
       "array([7, 2, 1, 0, 4, 1, 4, 9, 5, 9], dtype=int64)"
      ]
     },
     "execution_count": 31,
     "metadata": {},
     "output_type": "execute_result"
    }
   ],
   "source": [
    "prediction[:10]\n",
    "#查看预测结果的前十项"
   ]
  },
  {
   "cell_type": "code",
   "execution_count": 32,
   "metadata": {
    "collapsed": true
   },
   "outputs": [],
   "source": [
    "import matplotlib.pyplot as plt\n",
    "def plot_images_labels_prediction(images,labels,prediction,idx,num=10):\n",
    "    fig = plt.gcf()\n",
    "    fig.set_size_inches(12, 14)\n",
    "    if num>25: num=25 \n",
    "    for i in range(0, num):\n",
    "        ax=plt.subplot(5,5, 1+i)\n",
    "        ax.imshow(images[idx], cmap='binary')\n",
    "\n",
    "        ax.set_title(\"label=\" +str(labels[idx])+\n",
    "                     \",predict=\"+str(prediction[idx])\n",
    "                     ,fontsize=10) \n",
    "        \n",
    "        ax.set_xticks([]);ax.set_yticks([])        \n",
    "        idx+=1 \n",
    "    plt.show()\n",
    "#查看预测结果"
   ]
  },
  {
   "cell_type": "code",
   "execution_count": 33,
   "metadata": {},
   "outputs": [
    {
     "data": {
      "image/png": "[encoded data removed]",
      "text/plain": [
       "<matplotlib.figure.Figure at 0x2d4e79b0>"
      ]
     },
     "metadata": {},
     "output_type": "display_data"
    }
   ],
   "source": [
    "plot_images_labels_prediction(x_Test,y_Test,prediction,idx=0)\n"
   ]
  },
  {
   "cell_type": "markdown",
   "metadata": {},
   "source": [
    "confusion matrix\n",
    " 显示混淆矩阵"
   ]
  },
  {
   "cell_type": "code",
   "execution_count": 34,
   "metadata": {},
   "outputs": [
    {
     "data": {
      "text/html": [
       "<div>\n",
       "<style>\n",
       "    .dataframe thead tr:only-child th {\n",
       "        text-align: right;\n",
       "    }\n",
       "\n",
       "    .dataframe thead th {\n",
       "        text-align: left;\n",
       "    }\n",
       "\n",
       "    .dataframe tbody tr th {\n",
       "        vertical-align: top;\n",
       "    }\n",
       "</style>\n",
       "<table border=\"1\" class=\"dataframe\">\n",
       "  <thead>\n",
       "    <tr style=\"text-align: right;\">\n",
       "      <th>predict</th>\n",
       "      <th>0</th>\n",
       "      <th>1</th>\n",
       "      <th>2</th>\n",
       "      <th>3</th>\n",
       "      <th>4</th>\n",
       "      <th>5</th>\n",
       "      <th>6</th>\n",
       "      <th>7</th>\n",
       "      <th>8</th>\n",
       "      <th>9</th>\n",
       "    </tr>\n",
       "    <tr>\n",
       "      <th>label</th>\n",
       "      <th></th>\n",
       "      <th></th>\n",
       "      <th></th>\n",
       "      <th></th>\n",
       "      <th></th>\n",
       "      <th></th>\n",
       "      <th></th>\n",
       "      <th></th>\n",
       "      <th></th>\n",
       "      <th></th>\n",
       "    </tr>\n",
       "  </thead>\n",
       "  <tbody>\n",
       "    <tr>\n",
       "      <th>0</th>\n",
       "      <td>974</td>\n",
       "      <td>0</td>\n",
       "      <td>1</td>\n",
       "      <td>0</td>\n",
       "      <td>0</td>\n",
       "      <td>0</td>\n",
       "      <td>3</td>\n",
       "      <td>1</td>\n",
       "      <td>1</td>\n",
       "      <td>0</td>\n",
       "    </tr>\n",
       "    <tr>\n",
       "      <th>1</th>\n",
       "      <td>0</td>\n",
       "      <td>1132</td>\n",
       "      <td>2</td>\n",
       "      <td>0</td>\n",
       "      <td>0</td>\n",
       "      <td>0</td>\n",
       "      <td>1</td>\n",
       "      <td>0</td>\n",
       "      <td>0</td>\n",
       "      <td>0</td>\n",
       "    </tr>\n",
       "    <tr>\n",
       "      <th>2</th>\n",
       "      <td>2</td>\n",
       "      <td>0</td>\n",
       "      <td>1025</td>\n",
       "      <td>0</td>\n",
       "      <td>1</td>\n",
       "      <td>0</td>\n",
       "      <td>0</td>\n",
       "      <td>3</td>\n",
       "      <td>1</td>\n",
       "      <td>0</td>\n",
       "    </tr>\n",
       "    <tr>\n",
       "      <th>3</th>\n",
       "      <td>0</td>\n",
       "      <td>0</td>\n",
       "      <td>1</td>\n",
       "      <td>1006</td>\n",
       "      <td>0</td>\n",
       "      <td>2</td>\n",
       "      <td>0</td>\n",
       "      <td>1</td>\n",
       "      <td>0</td>\n",
       "      <td>0</td>\n",
       "    </tr>\n",
       "    <tr>\n",
       "      <th>4</th>\n",
       "      <td>0</td>\n",
       "      <td>0</td>\n",
       "      <td>0</td>\n",
       "      <td>0</td>\n",
       "      <td>980</td>\n",
       "      <td>0</td>\n",
       "      <td>1</td>\n",
       "      <td>0</td>\n",
       "      <td>0</td>\n",
       "      <td>1</td>\n",
       "    </tr>\n",
       "    <tr>\n",
       "      <th>5</th>\n",
       "      <td>0</td>\n",
       "      <td>0</td>\n",
       "      <td>0</td>\n",
       "      <td>4</td>\n",
       "      <td>0</td>\n",
       "      <td>885</td>\n",
       "      <td>1</td>\n",
       "      <td>0</td>\n",
       "      <td>0</td>\n",
       "      <td>2</td>\n",
       "    </tr>\n",
       "    <tr>\n",
       "      <th>6</th>\n",
       "      <td>4</td>\n",
       "      <td>4</td>\n",
       "      <td>0</td>\n",
       "      <td>0</td>\n",
       "      <td>2</td>\n",
       "      <td>3</td>\n",
       "      <td>944</td>\n",
       "      <td>0</td>\n",
       "      <td>1</td>\n",
       "      <td>0</td>\n",
       "    </tr>\n",
       "    <tr>\n",
       "      <th>7</th>\n",
       "      <td>0</td>\n",
       "      <td>2</td>\n",
       "      <td>3</td>\n",
       "      <td>2</td>\n",
       "      <td>0</td>\n",
       "      <td>0</td>\n",
       "      <td>0</td>\n",
       "      <td>1019</td>\n",
       "      <td>1</td>\n",
       "      <td>1</td>\n",
       "    </tr>\n",
       "    <tr>\n",
       "      <th>8</th>\n",
       "      <td>0</td>\n",
       "      <td>0</td>\n",
       "      <td>1</td>\n",
       "      <td>2</td>\n",
       "      <td>0</td>\n",
       "      <td>1</td>\n",
       "      <td>0</td>\n",
       "      <td>0</td>\n",
       "      <td>967</td>\n",
       "      <td>3</td>\n",
       "    </tr>\n",
       "    <tr>\n",
       "      <th>9</th>\n",
       "      <td>0</td>\n",
       "      <td>0</td>\n",
       "      <td>0</td>\n",
       "      <td>1</td>\n",
       "      <td>5</td>\n",
       "      <td>1</td>\n",
       "      <td>0</td>\n",
       "      <td>4</td>\n",
       "      <td>1</td>\n",
       "      <td>997</td>\n",
       "    </tr>\n",
       "  </tbody>\n",
       "</table>\n",
       "</div>"
      ],
      "text/plain": [
       "predict    0     1     2     3    4    5    6     7    8    9\n",
       "label                                                        \n",
       "0        974     0     1     0    0    0    3     1    1    0\n",
       "1          0  1132     2     0    0    0    1     0    0    0\n",
       "2          2     0  1025     0    1    0    0     3    1    0\n",
       "3          0     0     1  1006    0    2    0     1    0    0\n",
       "4          0     0     0     0  980    0    1     0    0    1\n",
       "5          0     0     0     4    0  885    1     0    0    2\n",
       "6          4     4     0     0    2    3  944     0    1    0\n",
       "7          0     2     3     2    0    0    0  1019    1    1\n",
       "8          0     0     1     2    0    1    0     0  967    3\n",
       "9          0     0     0     1    5    1    0     4    1  997"
      ]
     },
     "execution_count": 34,
     "metadata": {},
     "output_type": "execute_result"
    }
   ],
   "source": [
    "import pandas as pd\n",
    "pd.crosstab(y_Test,prediction,\n",
    "            rownames=['label'],colnames=['predict'])"
   ]
  },
  {
   "cell_type": "markdown",
   "metadata": {},
   "source": [
    "对角线上是预测正确的数字，真实值是1被正确预测为1的项数有1132项，最高，即最不容易混淆，真实值为5被正确预测为5的有885项，最低。真实值为9但是被预测为9时最高，也是最容易混淆。\n",
    "\n"
   ]
  },
  {
   "cell_type": "code",
   "execution_count": 35,
   "metadata": {},
   "outputs": [
    {
     "data": {
      "text/html": [
       "<div>\n",
       "<style>\n",
       "    .dataframe thead tr:only-child th {\n",
       "        text-align: right;\n",
       "    }\n",
       "\n",
       "    .dataframe thead th {\n",
       "        text-align: left;\n",
       "    }\n",
       "\n",
       "    .dataframe tbody tr th {\n",
       "        vertical-align: top;\n",
       "    }\n",
       "</style>\n",
       "<table border=\"1\" class=\"dataframe\">\n",
       "  <thead>\n",
       "    <tr style=\"text-align: right;\">\n",
       "      <th></th>\n",
       "      <th>label</th>\n",
       "      <th>predict</th>\n",
       "    </tr>\n",
       "  </thead>\n",
       "  <tbody>\n",
       "    <tr>\n",
       "      <th>674</th>\n",
       "      <td>5</td>\n",
       "      <td>3</td>\n",
       "    </tr>\n",
       "    <tr>\n",
       "      <th>2035</th>\n",
       "      <td>5</td>\n",
       "      <td>3</td>\n",
       "    </tr>\n",
       "    <tr>\n",
       "      <th>2597</th>\n",
       "      <td>5</td>\n",
       "      <td>3</td>\n",
       "    </tr>\n",
       "    <tr>\n",
       "      <th>5937</th>\n",
       "      <td>5</td>\n",
       "      <td>3</td>\n",
       "    </tr>\n",
       "  </tbody>\n",
       "</table>\n",
       "</div>"
      ],
      "text/plain": [
       "      label  predict\n",
       "674       5        3\n",
       "2035      5        3\n",
       "2597      5        3\n",
       "5937      5        3"
      ]
     },
     "execution_count": 35,
     "metadata": {},
     "output_type": "execute_result"
    }
   ],
   "source": [
    "df = pd.DataFrame({'label':y_Test, 'predict':prediction})\n",
    "df[(df.label==5)&(df.predict==3)]"
   ]
  },
  {
   "cell_type": "markdown",
   "metadata": {},
   "source": [
    "## 参考文献\n",
    "\n",
    "1. TensorFlow+Keras深度学习人工智能实践应用，林大贵，清华大学出版社，2018."
   ]
  },
  {
   "cell_type": "code",
   "execution_count": null,
   "metadata": {
    "collapsed": true
   },
   "outputs": [],
   "source": []
  }
 ],
 "metadata": {
  "kernelspec": {
   "display_name": "Python 3",
   "language": "python",
   "name": "python3"
  },
  "language_info": {
   "codemirror_mode": {
    "name": "ipython",
    "version": 3
   },
   "file_extension": ".py",
   "mimetype": "text/x-python",
   "name": "python",
   "nbconvert_exporter": "python",
   "pygments_lexer": "ipython3",
   "version": "3.6.3"
  }
 },
 "nbformat": 4,
 "nbformat_minor": 2
}
